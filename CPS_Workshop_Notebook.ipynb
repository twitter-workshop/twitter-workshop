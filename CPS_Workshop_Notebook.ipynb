{
 "cells": [
  {
   "cell_type": "markdown",
   "metadata": {},
   "source": [
    "# CPS Workshop: Twitter Scraping\n",
    "This notebook is written by Vicky Lin and is meant to be used in conjunction to the CPS workshop on June 5, 2020. Social media data collection and analysis are still fairly new and do not have a streamlined process, making it incredibly difficult and time consuming. For this reason, this workbook uses a Python library built by a third party that will help in this process. This notebook draws from John Simpson's [Introduction to Twitter Scraping for Researchers](https://github.com/ualberta-rcg/twitter_scraping). Special thanks to Lisa Strohschein, John Simpson, Victoria Romanik, and the University of Alberta Department of Sociology.\n",
    "\n",
    "On the GitHub page for this workshop, there is a Resources folder with extra resources and information on Python and Twitter. If you encounter further trouble after this workshop, this folder may be a good place to start.\n",
    "\n",
    "For this workshop, you will need:\n",
    "1. A functioning Python environment on the system it is run in and that you are authorized to install software on it, or a Google account where you can use Google Colab.\n",
    "2. A Twitter Developper account.\n",
    "3. A Twitter-created app.\n",
    "4. A MongoDB instance set up and appropriately configured.\n",
    "\n",
    "The Python library used in this notebook is called [TwitterAPI](https://github.com/geduldig/TwitterAPI) (no spaces)."
   ]
  },
  {
   "cell_type": "markdown",
   "metadata": {},
   "source": [
    "## Installation and Authentication\n",
    "Let's start by installing the TwitterAPI library."
   ]
  },
  {
   "cell_type": "code",
   "execution_count": null,
   "metadata": {},
   "outputs": [],
   "source": [
    "!pip install TwitterAPI"
   ]
  },
  {
   "cell_type": "markdown",
   "metadata": {},
   "source": [
    "Once the TwitterAPI library is installed, we should be able to open it to use throughout the workbook with the following command:"
   ]
  },
  {
   "cell_type": "markdown",
   "metadata": {},
   "source": [
    "from TwitterAPI import TwitterAPI"
   ]
  },
  {
   "cell_type": "markdown",
   "metadata": {},
   "source": [
    "The rest of this notebook assumes that the above two blocks of code have been run and executed successfully. Opening this workbook without running these two lines of code will likely cause errors later on. If you are encountering errors, you may need to run these two lines again."
   ]
  },
  {
   "cell_type": "markdown",
   "metadata": {},
   "source": [
    "#### A Note on Authentication\n",
    "Taking advantage of Twitter Developer API and this notebook requires a Twitter Developer account. A Twitter Developer account has to be requested and the process may take a few days. Applying for a Twitter Developer account requires a regular Twitter account, and can be done here: https://developer.twitter.com/en/apply/user\n",
    "\n",
    "There are two types of authentication that you may want to take advantage of. Here are the main differences:\n",
    "\n",
    "You will need oAuth1 (User authentication) for the following:\n",
    "- Post Tweets or other resources;\n",
    "- Connect to Streaming endpoints;\n",
    "- Search for users;\n",
    "- Use any geo endpoints;\n",
    "- Access Direct Messages or account credentials;\n",
    "- Retrieve user's email addresses\n",
    "\n",
    "You can use oAuth2 (Application-only authentication) for the following:\n",
    "- Pull user timelines;\n",
    "- Access friends and followers of any account;\n",
    "- Access lists resources;\n",
    "- Search in Tweets;\n",
    "- Retrieve any user information, exclusing the user's email address\n",
    "\n",
    "You can use either of these in this notebook, but be aware of which on you will be using and what they can do. Both authentication methods require some information about keys and tokens pased into the appropriate secton of the cell below. This key and token information is generated when you creae a profile for an app of the Twitter Developer site.\n",
    "\n",
    "Paste in the required key and token information from the Twitter Developer site into the cell below and run it. You'll need to run the cell below to load your credentials and only _one_ of the suthorization methods below."
   ]
  },
  {
   "cell_type": "code",
   "execution_count": null,
   "metadata": {},
   "outputs": [],
   "source": [
    "API_KEY = ''\n",
    "API_KEY_SECRET = ''\n",
    "ACCESS_TOKEN = ''\n",
    "ACCESS_TOKEN_SECRET = ''"
   ]
  },
  {
   "cell_type": "markdown",
   "metadata": {},
   "source": [
    "### oAuth1 (User Identification)"
   ]
  },
  {
   "cell_type": "markdown",
   "metadata": {},
   "source": [
    "api = TwitterAPI(API_KEY,\n",
    "                API_KEY_SECRET,\n",
    "                ACCESS_TOKEN,\n",
    "                ACCESS_TOKEN_SECRET)\n",
    "api.auth"
   ]
  },
  {
   "cell_type": "markdown",
   "metadata": {},
   "source": [
    "If successful, the output should look something like this:\n",
    "`<requests_oauthlib.oauth1_auth.OAuth1 at 0x107b8bba8>`"
   ]
  },
  {
   "cell_type": "markdown",
   "metadata": {},
   "source": [
    "### oAuth2 (App Identification)"
   ]
  },
  {
   "cell_type": "code",
   "execution_count": null,
   "metadata": {},
   "outputs": [],
   "source": [
    "api = TwitterAPI(API_KEY,\n",
    "                API_KEY_SECRET,\n",
    "                auth_type='oAuth2')\n",
    "api.auth"
   ]
  },
  {
   "cell_type": "markdown",
   "metadata": {},
   "source": [
    "If successful, the output should look something like this:\n",
    "`<TwitterAPI.BearerAuth.BearerAuth at 0x107b9acc0>`"
   ]
  },
  {
   "cell_type": "code",
   "execution_count": null,
   "metadata": {},
   "outputs": [],
   "source": []
  }
 ],
 "metadata": {
  "kernelspec": {
   "display_name": "Python 3",
   "language": "python",
   "name": "python3"
  },
  "language_info": {
   "codemirror_mode": {
    "name": "ipython",
    "version": 3
   },
   "file_extension": ".py",
   "mimetype": "text/x-python",
   "name": "python",
   "nbconvert_exporter": "python",
   "pygments_lexer": "ipython3",
   "version": "3.7.4"
  }
 },
 "nbformat": 4,
 "nbformat_minor": 2
}
