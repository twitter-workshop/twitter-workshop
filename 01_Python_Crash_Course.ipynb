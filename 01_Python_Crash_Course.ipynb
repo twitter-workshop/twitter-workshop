{
 "cells": [
  {
   "cell_type": "markdown",
   "metadata": {},
   "source": [
    "# Introduction to Python\n",
    "Python is a programming language, and it will be used for the Twiter scraping workshop. This notebook will take you through a brief introduction on how to use Python, assuming that you have no knowledge of it."
   ]
  },
  {
   "cell_type": "markdown",
   "metadata": {},
   "source": [
    "Just like in R, use `#` to leave comments in your code and make notes to yourself. When reading lines of code, the `#` symbol means \"Stop reading!\" Be aware that any code after a `#` will not be read."
   ]
  },
  {
   "cell_type": "markdown",
   "metadata": {},
   "source": [
    "Python will read lines of code sequentially. What is the output of the two lines of code below?"
   ]
  },
  {
   "cell_type": "code",
   "execution_count": null,
   "metadata": {},
   "outputs": [],
   "source": [
    "7 * 3\n",
    "2 + 1"
   ]
  },
  {
   "cell_type": "markdown",
   "metadata": {},
   "source": [
    "**Variables** are assigned using `=` symbol. Numbers and integers are fine on their own. A string, however, will contain any values that are not integers and need to have either single-quotes or double-quotes around it."
   ]
  },
  {
   "cell_type": "code",
   "execution_count": null,
   "metadata": {},
   "outputs": [],
   "source": [
    "age = 42\n",
    "first_name = 'Ahmed'\n",
    "print(first_name, 'is', age, 'years old')"
   ]
  },
  {
   "cell_type": "markdown",
   "metadata": {},
   "source": [
    "If you aren't sure what type of data your variable is, use the `type()` function to find out."
   ]
  },
  {
   "cell_type": "code",
   "execution_count": null,
   "metadata": {},
   "outputs": [],
   "source": [
    "print(type(age))\n",
    "print(type(first_name))"
   ]
  },
  {
   "cell_type": "markdown",
   "metadata": {},
   "source": [
    "As seen above, the `print()` function indicates how Python should return whatever value or variable has been inputted. Some cells of code won't have an explicit output, so the `print()` can be helpful to determine that your code did what you want."
   ]
  },
  {
   "cell_type": "markdown",
   "metadata": {},
   "source": [
    "**Dictionaries** let you set up a key/value store, and allow for more arbitrary keys like strings. There are two ways to create a dictionary:"
   ]
  },
  {
   "cell_type": "code",
   "execution_count": 1,
   "metadata": {},
   "outputs": [],
   "source": [
    "#libraries, loops, conditionals"
   ]
  }
 ],
 "metadata": {
  "kernelspec": {
   "display_name": "Python 3",
   "language": "python",
   "name": "python3"
  },
  "language_info": {
   "codemirror_mode": {
    "name": "ipython",
    "version": 3
   },
   "file_extension": ".py",
   "mimetype": "text/x-python",
   "name": "python",
   "nbconvert_exporter": "python",
   "pygments_lexer": "ipython3",
   "version": "3.7.4"
  }
 },
 "nbformat": 4,
 "nbformat_minor": 2
}
